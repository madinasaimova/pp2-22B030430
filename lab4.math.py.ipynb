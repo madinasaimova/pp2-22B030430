{
 "cells": [
  {
   "cell_type": "code",
   "execution_count": 1,
   "id": "f7342fb3",
   "metadata": {},
   "outputs": [
    {
     "name": "stdout",
     "output_type": "stream",
     "text": [
      "15\n",
      "0.26179933333333333\n"
     ]
    }
   ],
   "source": [
    "#1\n",
    "# def fun(num):\n",
    "#     print((num*3.141592)/180)\n",
    "# x=int(input())\n",
    "# fun(x)\n",
    "x=int(input())\n",
    "print((x*3.141592)/180)\n",
    "\n",
    "# #1.1\n",
    "# import math\n",
    "# x=int(input())\n",
    "# print(math.radians(x))"
   ]
  },
  {
   "cell_type": "code",
   "execution_count": 2,
   "id": "73d9d2d6",
   "metadata": {},
   "outputs": [
    {
     "name": "stdout",
     "output_type": "stream",
     "text": [
      "5\n",
      "5\n",
      "6\n",
      "27.5\n"
     ]
    }
   ],
   "source": [
    "#2\n",
    "height = int(input())\n",
    "first_value = int(input())\n",
    "second_value = int(input())\n",
    "print(((first_value + second_value)/2)*height)"
   ]
  },
  {
   "cell_type": "code",
   "execution_count": 3,
   "id": "a75543d6",
   "metadata": {},
   "outputs": [
    {
     "name": "stdout",
     "output_type": "stream",
     "text": [
      "4\n",
      "25\n",
      "Area is: 625\n"
     ]
    }
   ],
   "source": [
    "#3\n",
    "import math\n",
    "n = int(input())\n",
    "lenght = int(input())\n",
    "print(\"Area is:\", int(((n*(lenght**2))/(4*(math.tan(math.pi/n))))))"
   ]
  },
  {
   "cell_type": "code",
   "execution_count": 4,
   "id": "31390590",
   "metadata": {},
   "outputs": [
    {
     "name": "stdout",
     "output_type": "stream",
     "text": [
      "5\n",
      "6\n",
      "30.0\n"
     ]
    }
   ],
   "source": [
    "\n",
    "#4\n",
    "l = int(input())\n",
    "h=int(input())\n",
    "print(float(h*l))"
   ]
  },
  {
   "cell_type": "code",
   "execution_count": null,
   "id": "a8f7b5e4",
   "metadata": {},
   "outputs": [],
   "source": []
  }
 ],
 "metadata": {
  "kernelspec": {
   "display_name": "Python 3 (ipykernel)",
   "language": "python",
   "name": "python3"
  },
  "language_info": {
   "codemirror_mode": {
    "name": "ipython",
    "version": 3
   },
   "file_extension": ".py",
   "mimetype": "text/x-python",
   "name": "python",
   "nbconvert_exporter": "python",
   "pygments_lexer": "ipython3",
   "version": "3.9.13"
  }
 },
 "nbformat": 4,
 "nbformat_minor": 5
}
