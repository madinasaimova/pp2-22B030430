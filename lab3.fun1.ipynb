{
 "cells": [
  {
   "cell_type": "code",
   "execution_count": 1,
   "id": "670c609d",
   "metadata": {},
   "outputs": [
    {
     "name": "stdout",
     "output_type": "stream",
     "text": [
      "56\n",
      "1.9753418709184565\n"
     ]
    }
   ],
   "source": [
    "#1\n",
    "def recipe(gram):\n",
    "    ounce = gram * 28.3495231\n",
    "    return ounce\n",
    "result = int(input())\n",
    "print(recipe(result))\n"
   ]
  },
  {
   "cell_type": "code",
   "execution_count": 2,
   "id": "05a6bfa4",
   "metadata": {},
   "outputs": [
    {
     "name": "stdout",
     "output_type": "stream",
     "text": [
      "523.40\n",
      "273.0\n"
     ]
    }
   ],
   "source": [
    "#2\n",
    "def temp(F):\n",
    "    \n",
    "    print((5 / 9) * (F-32))\n",
    "F=float(input())\n",
    "temp(F)\n"
   ]
  },
  {
   "cell_type": "code",
   "execution_count": 3,
   "id": "bfbb9223",
   "metadata": {},
   "outputs": [
    {
     "name": "stdout",
     "output_type": "stream",
     "text": [
      "Rabbits =  12\n",
      "Chickens =  23\n"
     ]
    }
   ],
   "source": [
    "#3\n",
    "def animals(numheads, numlegs):\n",
    "    rabbit=((numlegs- 2*numheads)/2)\n",
    "    print(\"Rabbits = \", int(rabbit))\n",
    "    print(\"Chickens = \", int(numheads-rabbit))\n",
    "numheads = 35\n",
    "numlegs= 94\n",
    "animals(numheads, numlegs)"
   ]
  },
  {
   "cell_type": "code",
   "execution_count": 5,
   "id": "c06c3afe",
   "metadata": {},
   "outputs": [
    {
     "name": "stdout",
     "output_type": "stream",
     "text": [
      "[5, 13, 17, 19]\n"
     ]
    }
   ],
   "source": [
    "#4\n",
    "def filter_prime(nums):\n",
    "    for i in range (2, nums):\n",
    "        if nums%i == 0:\n",
    "            return False\n",
    "        return True\n",
    "n = int(input())\n",
    "l=[]\n",
    "for i in range(n):\n",
    "    x = int(input())\n",
    "    l.append(x)\n",
    "prime = list(filter(filter_prime, l))\n",
    "print(prime)"
   ]
  },
  {
   "cell_type": "code",
   "execution_count": null,
   "id": "6ab5f864",
   "metadata": {},
   "outputs": [],
   "source": [
    "#5\n",
    "from itertools import permutations\n",
    "def all_permut(s):\n",
    "    perm = permutations(s)\n",
    "    return [\"\".join(i) for i in perm]\n",
    "a=str(\"ABC\")\n",
    "print(all_permut(a))"
   ]
  },
  {
   "cell_type": "code",
   "execution_count": 9,
   "id": "fb4cb858",
   "metadata": {},
   "outputs": [
    {
     "name": "stdout",
     "output_type": "stream",
     "text": [
      "True\n"
     ]
    }
   ],
   "source": [
    "#7\n",
    "def has_33(num):\n",
    "    a=bool()\n",
    "    i=0\n",
    "    while i<len(num)-1:\n",
    "        if num[i]==num[i+1]==3:\n",
    "            a=True\n",
    "            break\n",
    "        else:\n",
    "            a=False\n",
    "            i+=1\n",
    "    print(a)\n",
    "num=[1, 3, 4, 3, 3, 7]\n",
    "has_33(num)"
   ]
  },
  {
   "cell_type": "code",
   "execution_count": 10,
   "id": "c0507105",
   "metadata": {},
   "outputs": [
    {
     "name": "stdout",
     "output_type": "stream",
     "text": [
      "True\n"
     ]
    }
   ],
   "source": [
    "#8\n",
    "def spy_game(nums):\n",
    "    i=0\n",
    "    while i<len(nums)-3:\n",
    "        a=bool()\n",
    "        one = nums[i+1]\n",
    "        two = nums[i+2]\n",
    "        three = nums[i+3]\n",
    "        if one == 0 and two ==0 and three == 7:\n",
    "            a=True\n",
    "            break\n",
    "        else:\n",
    "            a=False\n",
    "        i+=1\n",
    "    print(a)\n",
    "nums= [1, 0, 0, 8, 9, 0, 0, 7]\n",
    "spy_game(nums)"
   ]
  },
  {
   "cell_type": "code",
   "execution_count": 11,
   "id": "18aff243",
   "metadata": {},
   "outputs": [
    {
     "name": "stdout",
     "output_type": "stream",
     "text": [
      "3\n",
      "113.03999999999999\n"
     ]
    }
   ],
   "source": [
    "#9\n",
    "def fun(radius):\n",
    "    volume = (4/3) * 3.14 * radius**3\n",
    "    print(volume)\n",
    "radius = float(input())\n",
    "fun(radius)"
   ]
  },
  {
   "cell_type": "code",
   "execution_count": 12,
   "id": "18fd8067",
   "metadata": {},
   "outputs": [
    {
     "name": "stdout",
     "output_type": "stream",
     "text": [
      "[1, 2, 4, 6, 7, 8, 32]\n"
     ]
    }
   ],
   "source": [
    "#10\n",
    "def fun(nums):\n",
    "    nums.sort()\n",
    "    unique = []\n",
    "    for i in nums:\n",
    "        if i not in unique:\n",
    "            unique.append(i)\n",
    "    print(unique)\n",
    "nums = [1, 2, 7, 4, 4, 32, 6, 8, 1, 2]\n",
    "fun(nums)"
   ]
  },
  {
   "cell_type": "code",
   "execution_count": 13,
   "id": "c34f9119",
   "metadata": {},
   "outputs": [
    {
     "name": "stdout",
     "output_type": "stream",
     "text": [
      "maoam\n",
      "True\n"
     ]
    }
   ],
   "source": [
    "#11\n",
    "def fun(string):\n",
    "    palin = string[::-1]\n",
    "    if string == palin:\n",
    "        print(True)\n",
    "    else:\n",
    "        print(False)\n",
    "string=input()\n",
    "fun(string) "
   ]
  },
  {
   "cell_type": "code",
   "execution_count": null,
   "id": "fe38bbc4",
   "metadata": {},
   "outputs": [],
   "source": [
    "#12\n",
    "def fun(nums):\n",
    "    i=0\n",
    "    while i<len(nums):\n",
    "        a=nums[i]\n",
    "        for x in range (a):\n",
    "            print(\"*\", end = '')\n",
    "        print (\"\\n\")\n",
    "        i+=1\n",
    "nums = [4, 9, 7]\n",
    "fun(nums)"
   ]
  },
  {
   "cell_type": "code",
   "execution_count": null,
   "id": "0cb66705",
   "metadata": {},
   "outputs": [],
   "source": [
    "#13\n",
    "import random\n",
    "def guess(num):\n",
    "    counter = 1\n",
    "    rand=random.randint(1,20)\n",
    "    while True:\n",
    "        if num==rand:\n",
    "            print(\"Good job,\",\" \", name, \"! \", \"You guessed my number in\", \" \", counter,\" guesses!\")\n",
    "            break\n",
    "        elif num<rand:\n",
    "            print(\"Your guess is too low.\")\n",
    "            print(\"Take a guess\")\n",
    "            num = int(input())\n",
    "            counter +=1\n",
    "        elif num>rand:\n",
    "            print(\"Your guess is too high.\")\n",
    "            print(\"Take a guess\")\n",
    "            num = int(input())\n",
    "            counter +=1\n",
    "print (\"Hello! What is your name?\")\n",
    "name=input()\n",
    "print(\"Well,\", name,\",\", \"I am thinking of a number between 1 and 20.\")\n",
    "print(\"Take a guess.\")\n",
    "num=int(input())\n",
    "guess(num)"
   ]
  },
  {
   "cell_type": "code",
   "execution_count": null,
   "id": "99254e5d",
   "metadata": {},
   "outputs": [],
   "source": [
    "#6\n",
    "def rev(s):\n",
    "    a=list(s.split(\" \"))\n",
    "    a.reverse()\n",
    "    print(' '.join(a))\n",
    "s=\"We are ready\"\n",
    "rev(s)"
   ]
  }
 ],
 "metadata": {
  "kernelspec": {
   "display_name": "Python 3",
   "language": "python",
   "name": "python3"
  },
  "language_info": {
   "codemirror_mode": {
    "name": "ipython",
    "version": 3
   },
   "file_extension": ".py",
   "mimetype": "text/x-python",
   "name": "python",
   "nbconvert_exporter": "python",
   "pygments_lexer": "ipython3",
   "version": "3.11.1"
  },
  "vscode": {
   "interpreter": {
    "hash": "13c4adc8d0249b9182d6e6cd5b101ff8e5c3ad35d00e4afa639ee8adc8ccb3c1"
   }
  }
 },
 "nbformat": 4,
 "nbformat_minor": 5
}
