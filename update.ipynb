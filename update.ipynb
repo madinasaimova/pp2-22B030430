{
 "cells": [
  {
   "cell_type": "code",
   "execution_count": null,
   "id": "3dfded56",
   "metadata": {},
   "outputs": [],
   "source": [
    "\n",
    "import psycopg2\n",
    "from config import params\n",
    "\n",
    "db=psycopg2.connect(**params)\n",
    "\n",
    "current=db.cursor()\n",
    "\n",
    "sql=\"\"\"\n",
    "    UPDATE PhoneBook SET phone_number=%s, person_name=%s;\n",
    "\"\"\"\n",
    "name=input()\n",
    "phone_number=input()\n",
    "\n",
    "current.execute(sql, (phone_number, name))\n",
    "\n",
    "current.close()\n",
    "db.commit()\n",
    "db.close()"
   ]
  }
 ],
 "metadata": {
  "kernelspec": {
   "display_name": "Python 3 (ipykernel)",
   "language": "python",
   "name": "python3"
  }
 },
 "nbformat": 4,
 "nbformat_minor": 5
}
