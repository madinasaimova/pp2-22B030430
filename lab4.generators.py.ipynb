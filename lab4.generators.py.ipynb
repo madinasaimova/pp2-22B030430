{
 "cells": [
  {
   "cell_type": "code",
   "execution_count": 1,
   "id": "0acef4fa",
   "metadata": {},
   "outputs": [
    {
     "name": "stdout",
     "output_type": "stream",
     "text": [
      "64\n",
      "0 1 4 9 16 25 36 49 64 "
     ]
    }
   ],
   "source": [
    "#1\n",
    "import math\n",
    "def gener(num):\n",
    "    m=int(math.sqrt(num))\n",
    "    for i in range(m+1):\n",
    "        print(i*i, end=\" \")\n",
    "x=int(input())\n",
    "gener(x)"
   ]
  },
  {
   "cell_type": "code",
   "execution_count": 2,
   "id": "7d37156e",
   "metadata": {},
   "outputs": [
    {
     "name": "stdout",
     "output_type": "stream",
     "text": [
      "14\n",
      "0, 2, 4, 6, 8, 10, 12, 14\n"
     ]
    }
   ],
   "source": [
    "#2\n",
    "def even(num):\n",
    "    for i in range(num):\n",
    "        if i%2==0:\n",
    "            print(i, end=\", \")\n",
    "    if num%2==0:\n",
    "        print(num)\n",
    "x= int(input())\n",
    "even(x)"
   ]
  },
  {
   "cell_type": "code",
   "execution_count": 3,
   "id": "f91fb3b7",
   "metadata": {},
   "outputs": [
    {
     "name": "stdout",
     "output_type": "stream",
     "text": [
      "100\n",
      "0 12 24 36 48 60 72 84 96 "
     ]
    }
   ],
   "source": [
    "#3\n",
    "def fun(num):\n",
    "    for i in range(num+1):\n",
    "        if i%3==0 and i%4 ==0:\n",
    "            print(i, end = ' ')\n",
    "x= int(input())\n",
    "fun(x)"
   ]
  },
  {
   "cell_type": "code",
   "execution_count": 5,
   "id": "5e8d6ace",
   "metadata": {},
   "outputs": [
    {
     "name": "stdout",
     "output_type": "stream",
     "text": [
      "2\n",
      "90\n",
      "1 4 9 16 25 36 49 64 81 "
     ]
    }
   ],
   "source": [
    "#4\n",
    "import math\n",
    "def squares(a, b):\n",
    "    m=int(math.sqrt(a))\n",
    "    n=int(math.sqrt(b))\n",
    "    for i in range(m, n+1):\n",
    "        print(i*i, end = ' ')\n",
    "a=int(input())\n",
    "b=int(input())\n",
    "squares(a, b)"
   ]
  },
  {
   "cell_type": "code",
   "execution_count": 6,
   "id": "f54e6059",
   "metadata": {},
   "outputs": [
    {
     "name": "stdout",
     "output_type": "stream",
     "text": [
      "15\n",
      "15 14 13 12 11 10 9 8 7 6 5 4 3 2 1 0 "
     ]
    }
   ],
   "source": [
    "#5\n",
    "def fun(num):\n",
    "    while(num!=-1):\n",
    "        print(num, end =' ')\n",
    "        num-=1\n",
    "x=int(input())\n",
    "fun(x)"
   ]
  },
  {
   "cell_type": "code",
   "execution_count": null,
   "id": "674dd415",
   "metadata": {},
   "outputs": [],
   "source": []
  }
 ],
 "metadata": {
  "kernelspec": {
   "display_name": "Python 3 (ipykernel)",
   "language": "python",
   "name": "python3"
  },
  "language_info": {
   "codemirror_mode": {
    "name": "ipython",
    "version": 3
   },
   "file_extension": ".py",
   "mimetype": "text/x-python",
   "name": "python",
   "nbconvert_exporter": "python",
   "pygments_lexer": "ipython3",
   "version": "3.9.13"
  }
 },
 "nbformat": 4,
 "nbformat_minor": 5
}
