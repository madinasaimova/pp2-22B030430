{
 "cells": [
  {
   "cell_type": "code",
   "execution_count": 1,
   "id": "115be006",
   "metadata": {},
   "outputs": [
    {
     "name": "stdout",
     "output_type": "stream",
     "text": [
      "90\n",
      "0 1 4 9 16 25 36 49 64 81 "
     ]
    }
   ],
   "source": [
    "#1\n",
    "import math\n",
    "def gener(num):\n",
    "    m=int(math.sqrt(num))\n",
    "    for i in range(m+1):\n",
    "        yield i*i\n",
    "x=int(input())\n",
    "for i in gener(x):\n",
    "    print(i, end=' ')"
   ]
  },
  {
   "cell_type": "code",
   "execution_count": 2,
   "id": "a40088af",
   "metadata": {},
   "outputs": [
    {
     "name": "stdout",
     "output_type": "stream",
     "text": [
      "90\n",
      "0, 2, 4, 6, 8, 10, 12, 14, 16, 18, 20, 22, 24, 26, 28, 30, 32, 34, 36, 38, 40, 42, 44, 46, 48, 50, 52, 54, 56, 58, 60, 62, 64, 66, 68, 70, 72, 74, 76, 78, 80, 82, 84, 86, 88, 90, "
     ]
    }
   ],
   "source": [
    "#2\n",
    "def even(num):\n",
    "    for i in range(num):\n",
    "        if i%2==0:\n",
    "            yield i\n",
    "    if num%2==0:\n",
    "        yield num\n",
    "x= int(input())\n",
    "for i in even(x):\n",
    "    print(i, end =', ')"
   ]
  },
  {
   "cell_type": "code",
   "execution_count": 3,
   "id": "1dfb9e0f",
   "metadata": {},
   "outputs": [
    {
     "name": "stdout",
     "output_type": "stream",
     "text": [
      "90\n",
      "0 12 24 36 48 60 72 84 "
     ]
    }
   ],
   "source": [
    "#3\n",
    "def fun(num):\n",
    "    for i in range(num+1):\n",
    "        if i%3==0 and i%4 ==0:\n",
    "            yield  i\n",
    "x= int(input())\n",
    "for i in fun(x):\n",
    "    print(i, end =\" \")"
   ]
  },
  {
   "cell_type": "code",
   "execution_count": 4,
   "id": "2b5240eb",
   "metadata": {},
   "outputs": [
    {
     "name": "stdout",
     "output_type": "stream",
     "text": [
      "2\n",
      "90\n",
      "1 4 9 16 25 36 49 64 81 "
     ]
    }
   ],
   "source": [
    "#4\n",
    "import math\n",
    "def squares(a, b):\n",
    "    m=int(math.sqrt(a))\n",
    "    n=int(math.sqrt(b))\n",
    "    for i in range(m, n+1):\n",
    "        yield i*i\n",
    "a=int(input())\n",
    "b=int(input())\n",
    "for i in squares(a, b):\n",
    "    print(i, end =' ')"
   ]
  },
  {
   "cell_type": "code",
   "execution_count": 5,
   "id": "7fd4e5ee",
   "metadata": {},
   "outputs": [
    {
     "name": "stdout",
     "output_type": "stream",
     "text": [
      "15\n",
      "15 14 13 12 11 10 9 8 7 6 5 4 3 2 1 0 "
     ]
    }
   ],
   "source": [
    "#5\n",
    "def fun(num):\n",
    "    while(num!=-1):\n",
    "        yield num\n",
    "        num-=1\n",
    "x=int(input())\n",
    "for i in fun(x):\n",
    "    print(i, end =' ')"
   ]
  },
  {
   "cell_type": "code",
   "execution_count": null,
   "id": "19656ce1",
   "metadata": {},
   "outputs": [],
   "source": []
  }
 ],
 "metadata": {
  "kernelspec": {
   "display_name": "Python 3 (ipykernel)",
   "language": "python",
   "name": "python3"
  },
  "language_info": {
   "codemirror_mode": {
    "name": "ipython",
    "version": 3
   },
   "file_extension": ".py",
   "mimetype": "text/x-python",
   "name": "python",
   "nbconvert_exporter": "python",
   "pygments_lexer": "ipython3",
   "version": "3.9.13"
  }
 },
 "nbformat": 4,
 "nbformat_minor": 5
}
