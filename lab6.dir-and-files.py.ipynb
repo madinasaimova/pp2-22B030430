{
 "cells": [
  {
   "cell_type": "code",
   "execution_count": null,
   "id": "57584d06",
   "metadata": {},
   "outputs": [],
   "source": [
    "#1\n",
    "import os\n",
    "path = r\"/Users/madin/Downloads/ppp\"\n",
    "for i in os.listdir(path):\n",
    "    print(i)"
   ]
  },
  {
   "cell_type": "code",
   "execution_count": null,
   "id": "b7c4d923",
   "metadata": {},
   "outputs": [],
   "source": [
    "#2\n",
    "import os\n",
    "x = input(\"Path\")\n",
    "print('Exist:', os.access(x, os.F_OK))\n",
    "print('Readable:', os.access(x, os.R_OK))\n",
    "print('Writable:', os.access(x, os.W_OK))\n",
    "print('Executable:', os.access(x, os.X_OK))"
   ]
  },
  {
   "cell_type": "code",
   "execution_count": null,
   "id": "8f826004",
   "metadata": {},
   "outputs": [],
   "source": [
    "#3\n",
    "import os\n",
    "print(\"Test a path exists or not:\")\n",
    "path = input()\n",
    "print(os.path.exists(path))\n",
    "print(\"\\nFile name of the path:\")\n",
    "print(os.path.basename(path))\n",
    "print(\"\\nDir name of the path:\")\n",
    "print(os.path.dirname(path))"
   ]
  },
  {
   "cell_type": "code",
   "execution_count": null,
   "id": "11fc79b7",
   "metadata": {},
   "outputs": [],
   "source": [
    "#4\n",
    "with open(\"tryy.py\", 'r') as fp:\n",
    "    count = 0\n",
    "    for line in fp:\n",
    "        if line != \"\\n\":\n",
    "            count += 1\n",
    "print('Total Lines:', count)\n",
    "fp.close()"
   ]
  },
  {
   "cell_type": "code",
   "execution_count": null,
   "id": "18970952",
   "metadata": {},
   "outputs": [],
   "source": [
    "#5\n",
    "q =  list(input())\n",
    "with open('tryy.py', 'w') as file:\n",
    "    for x in q:\n",
    "        file.write(x)\n",
    "\n",
    "f = open('tryy.py')\n",
    "print(f.read())\n",
    "f.close()"
   ]
  },
  {
   "cell_type": "code",
   "execution_count": null,
   "id": "673f7390",
   "metadata": {},
   "outputs": [],
   "source": [
    "#6\n",
    "import string, os\n",
    "if not os.path.exists(\"letters\"):\n",
    "   os.makedirs(\"letters\")\n",
    "for letter in string.ascii_uppercase:\n",
    "   with open(letter + \".txt\", \"w\") as f:\n",
    "       f.writelines(letter)"
   ]
  },
  {
   "cell_type": "code",
   "execution_count": null,
   "id": "230b25b4",
   "metadata": {},
   "outputs": [],
   "source": [
    "#7\n",
    "with open('tryy.py', 'r') as f:\n",
    "    data = f.read()\n",
    " \n",
    "with open('tryyy.py', 'w') as f:\n",
    "    f.write(data)\n",
    "f.close()"
   ]
  },
  {
   "cell_type": "code",
   "execution_count": null,
   "id": "fdcdff03",
   "metadata": {},
   "outputs": [],
   "source": [
    "#8\n",
    "import os\n",
    "x = input('File name')\n",
    "if os.path.exists(x):\n",
    "  os.remove(x)\n",
    "else:\n",
    "  print(\"The file does not exist\")"
   ]
  }
 ],
 "metadata": {
  "kernelspec": {
   "display_name": "Python 3 (ipykernel)",
   "language": "python",
   "name": "python3"
  },
  "language_info": {
   "codemirror_mode": {
    "name": "ipython",
    "version": 3
   },
   "file_extension": ".py",
   "mimetype": "text/x-python",
   "name": "python",
   "nbconvert_exporter": "python",
   "pygments_lexer": "ipython3",
   "version": "3.9.13"
  }
 },
 "nbformat": 4,
 "nbformat_minor": 5
}
