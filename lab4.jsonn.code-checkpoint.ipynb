{
 "cells": [
  {
   "cell_type": "code",
   "execution_count": null,
   "id": "2fd67b94",
   "metadata": {},
   "outputs": [],
   "source": [
    "import json\n",
    "\n",
    "with open ('test_file.json', 'r') as j:\n",
    "    data = json.load(j)\n",
    "print(\"\"\"Interface Status\n",
    "================================================================================\n",
    "DN                                                 Description           Speed    MTU  \n",
    "-------------------------------------------------- --------------------  ------  ------\"\"\")\n",
    "if 'imdata' in data:\n",
    "    for x in data['imdata']: \n",
    "        print(x['l1PhysIf']['attributes']['dn'], end = '                               ')\n",
    "        print(x['l1PhysIf']['attributes']['speed'], end = '  ')\n",
    "        print(x['l1PhysIf']['attributes']['mtu'], end = '\\n')"
   ]
  }
 ],
 "metadata": {
  "kernelspec": {
   "display_name": "Python 3 (ipykernel)",
   "language": "python",
   "name": "python3"
  },
  "language_info": {
   "codemirror_mode": {
    "name": "ipython",
    "version": 3
   },
   "file_extension": ".py",
   "mimetype": "text/x-python",
   "name": "python",
   "nbconvert_exporter": "python",
   "pygments_lexer": "ipython3",
   "version": "3.9.13"
  }
 },
 "nbformat": 4,
 "nbformat_minor": 5
}
