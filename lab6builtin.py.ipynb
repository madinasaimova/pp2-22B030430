{
 "cells": [
  {
   "cell_type": "code",
   "execution_count": 1,
   "id": "0f0ae932",
   "metadata": {},
   "outputs": [
    {
     "name": "stdout",
     "output_type": "stream",
     "text": [
      "Enter:2 3 4\n",
      "[2, 3, 4]\n",
      "24\n"
     ]
    }
   ],
   "source": [
    "#1\n",
    "import math\n",
    "x = list(map(int, input(\"Enter:\").split()))\n",
    "print(x)\n",
    "print(math.prod(x))  \n"
   ]
  },
  {
   "cell_type": "code",
   "execution_count": 2,
   "id": "72c73e0b",
   "metadata": {},
   "outputs": [
    {
     "name": "stdout",
     "output_type": "stream",
     "text": [
      "MaMama\n",
      "Upper count: 2\n",
      "Lower count: 4\n"
     ]
    }
   ],
   "source": [
    "#2\n",
    "a= input()\n",
    "l=0\n",
    "u=0\n",
    "for i in a:\n",
    "    if i.isupper():\n",
    "        u+=1\n",
    "    elif i.islower():\n",
    "        l+=1\n",
    "print('Upper count:', u)\n",
    "print('Lower count:', l)"
   ]
  },
  {
   "cell_type": "code",
   "execution_count": 3,
   "id": "6f06e860",
   "metadata": {},
   "outputs": [
    {
     "name": "stdout",
     "output_type": "stream",
     "text": [
      "mamam\n",
      "True\n"
     ]
    }
   ],
   "source": [
    "#3\n",
    "def fun(test):\n",
    "    if test == test[::-1]:\n",
    "        return True\n",
    "    else: return False\n",
    "x= str(input())\n",
    "print(fun(x))"
   ]
  },
  {
   "cell_type": "code",
   "execution_count": 4,
   "id": "5e20f705",
   "metadata": {},
   "outputs": [
    {
     "name": "stdout",
     "output_type": "stream",
     "text": [
      "Root:25100\n",
      "Milliseconds:232\n",
      "Square root of 25100 after 232 milliseconds is 158.42979517754858\n"
     ]
    }
   ],
   "source": [
    "#4\n",
    "import math, time\n",
    "a=int(input('Root:'))\n",
    "sec = int(input('Milliseconds:'))\n",
    "root = math.sqrt(a)\n",
    "time.sleep(sec/1000)\n",
    "print('Square root of {} after {} milliseconds is {}'.format(a, sec, root))\n"
   ]
  },
  {
   "cell_type": "code",
   "execution_count": 5,
   "id": "c43c3274",
   "metadata": {},
   "outputs": [
    {
     "name": "stdout",
     "output_type": "stream",
     "text": [
      "False\n",
      "False\n",
      "True\n"
     ]
    }
   ],
   "source": [
    "#5\n",
    "tuple1=(False, False, True)\n",
    "tuple2=(True, True, False)\n",
    "tuple3= (True, True, True)\n",
    "print(all(tuple1))\n",
    "print(all(tuple2))\n",
    "print(all(tuple3))"
   ]
  },
  {
   "cell_type": "code",
   "execution_count": null,
   "id": "aa2f6d88",
   "metadata": {},
   "outputs": [],
   "source": []
  }
 ],
 "metadata": {
  "kernelspec": {
   "display_name": "Python 3 (ipykernel)",
   "language": "python",
   "name": "python3"
  },
  "language_info": {
   "codemirror_mode": {
    "name": "ipython",
    "version": 3
   },
   "file_extension": ".py",
   "mimetype": "text/x-python",
   "name": "python",
   "nbconvert_exporter": "python",
   "pygments_lexer": "ipython3",
   "version": "3.9.13"
  }
 },
 "nbformat": 4,
 "nbformat_minor": 5
}
