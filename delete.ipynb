{
 "cells": [
  {
   "cell_type": "code",
   "execution_count": null,
   "id": "35b2183e",
   "metadata": {},
   "outputs": [],
   "source": [
    "\n",
    "import psycopg2\n",
    "from config import params\n",
    "\n",
    "db=psycopg2.connect(**params)\n",
    "\n",
    "current=db.cursor()\n",
    "\n",
    "sql=\"\"\"\n",
    "    DELETE FROM PhoneBook WHERE person_name=%s;\n",
    "\"\"\"\n",
    "name=input()\n",
    "\n",
    "current.execute(sql, (name,))\n",
    "\n",
    "current.close()\n",
    "db.commit()\n",
    "db.close()"
   ]
  }
 ],
 "metadata": {
  "kernelspec": {
   "display_name": "Python 3 (ipykernel)",
   "language": "python",
   "name": "python3"
  }
 },
 "nbformat": 4,
 "nbformat_minor": 5
}
