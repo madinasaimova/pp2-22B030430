{
 "cells": [
  {
   "cell_type": "code",
   "execution_count": null,
   "id": "984fe8a7",
   "metadata": {},
   "outputs": [],
   "source": [
    "import psycopg2\n",
    "from config import params\n",
    "\n",
    "db=psycopg2.connect(**params)\n",
    "\n",
    "current=db.cursor()\n",
    "\n",
    "sql=\"\"\"\n",
    "    SELECT * FROM PhoneBook;\n",
    "\"\"\"\n",
    "\n",
    "current.execute(sql)\n",
    "\n",
    "result=current.fetchall()\n",
    "\n",
    "print(result)\n",
    "\n",
    "current.close()\n",
    "db.commit()\n",
    "db.close()"
   ]
  }
 ],
 "metadata": {
  "kernelspec": {
   "display_name": "Python 3 (ipykernel)",
   "language": "python",
   "name": "python3"
  }
 },
 "nbformat": 4,
 "nbformat_minor": 5
}
