{
 "cells": [
  {
   "cell_type": "code",
   "execution_count": 2,
   "id": "47e9d96f",
   "metadata": {},
   "outputs": [
    {
     "name": "stdout",
     "output_type": "stream",
     "text": [
      "mama\n",
      "mama\n",
      "MAMA\n"
     ]
    }
   ],
   "source": [
    "#1\n",
    "class string:\n",
    "    def __init__(self, string):\n",
    "        self.string = string\n",
    "    def getString(self):\n",
    "        print(self.string)\n",
    "    def printString(self):\n",
    "        print(self.string.upper())\n",
    "s = string(input())\n",
    "s.getString()\n",
    "s.printString()"
   ]
  },
  {
   "cell_type": "code",
   "execution_count": 3,
   "id": "5643c226",
   "metadata": {},
   "outputs": [
    {
     "name": "stdout",
     "output_type": "stream",
     "text": [
      "4\n",
      "16\n"
     ]
    }
   ],
   "source": [
    "#2\n",
    "class shape:\n",
    "    def __init__(self, storona):\n",
    "        self.storona = storona\n",
    "class square(shape):\n",
    "    def area(self):\n",
    "        return(self.storona ** 2)\n",
    "a = square(int(input()))\n",
    "print(square.area(a))"
   ]
  },
  {
   "cell_type": "code",
   "execution_count": null,
   "id": "9a92c842",
   "metadata": {},
   "outputs": [],
   "source": [
    "#3\n",
    "class shape:\n",
    "    def __init__(self, lenght, width):\n",
    "        self.lenght = lenght\n",
    "        self.width = width\n",
    "class rectangle(shape):\n",
    "        def area(self):\n",
    "            return(self.lenght * self.width)\n",
    "a = rectangle(int(input()), int(input))\n",
    "print(rectangle.area(a))"
   ]
  },
  {
   "cell_type": "code",
   "execution_count": null,
   "id": "fc381cab",
   "metadata": {},
   "outputs": [],
   "source": [
    "#5\n",
    "class bank:\n",
    "    def __init__(self, owner, balance):\n",
    "        self.owner = owner\n",
    "        self.balance = balance\n",
    "\n",
    "    def deposit(self):\n",
    "        print(\"deposit (in):\")\n",
    "        inn = float(input())\n",
    "        self.balance+=inn\n",
    "        return bank(self.owner, self.balance)\n",
    "    \n",
    "    def withdraw(self):\n",
    "        print(\"withdraw (out):\")\n",
    "        out = float(input())\n",
    "        while out >= self.balance:\n",
    "            print(\"withdraw (out):\")\n",
    "            out = float(input())\n",
    "        self.balance-=out\n",
    "        return bank(self.owner, self.balance)\n",
    "    def __str__(self):\n",
    "        return F\"You have {self.balance} in your bank\"\n",
    "\n",
    "acc = bank(input(), float(input()))\n",
    "bank.deposit(acc)\n",
    "bank.withdraw(acc)\n",
    "print(acc)"
   ]
  },
  {
   "cell_type": "code",
   "execution_count": null,
   "id": "dbf91bfe",
   "metadata": {},
   "outputs": [],
   "source": [
    "#6\n",
    "def filter_prime(nums):\n",
    "    for i in range (2, nums):\n",
    "        if nums%i == 0:\n",
    "            return False\n",
    "        return True\n",
    "n = int(input())\n",
    "l=[]\n",
    "for i in range(n):\n",
    "    x = int(input())\n",
    "    l.append(x)\n",
    "prime = list(filter(lambda x: filter_prime(x), l))\n",
    "print(prime)"
   ]
  },
  {
   "cell_type": "code",
   "execution_count": null,
   "id": "69b1611b",
   "metadata": {},
   "outputs": [],
   "source": [
    "#4\n",
    "class point():\n",
    "    def __init__(self, x1, x2):\n",
    "        self.x1 = x1\n",
    "        self.x2=x2\n",
    "\n",
    "    def show(self):\n",
    "        print(self.x1, self.x2)\n",
    "\n",
    "    def move(self):\n",
    "        self.x1 = int(input())\n",
    "        self.x2 = int(input())\n",
    "\n",
    "    def dist(self):\n",
    "        print(f\"The distances between points is {abs(self.x1 - self.x2)}\")\n",
    "\n",
    "p=point(1, 1)\n",
    "p.show()\n",
    "p.dist()\n",
    "p.move()\n",
    "p.dist()"
   ]
  },
  {
   "cell_type": "code",
   "execution_count": null,
   "id": "1ec331e2",
   "metadata": {},
   "outputs": [],
   "source": []
  }
 ],
 "metadata": {
  "kernelspec": {
   "display_name": "Python 3 (ipykernel)",
   "language": "python",
   "name": "python3"
  },
  "language_info": {
   "codemirror_mode": {
    "name": "ipython",
    "version": 3
   },
   "file_extension": ".py",
   "mimetype": "text/x-python",
   "name": "python",
   "nbconvert_exporter": "python",
   "pygments_lexer": "ipython3",
   "version": "3.11.1"
  },
  "vscode": {
   "interpreter": {
    "hash": "13c4adc8d0249b9182d6e6cd5b101ff8e5c3ad35d00e4afa639ee8adc8ccb3c1"
   }
  }
 },
 "nbformat": 4,
 "nbformat_minor": 5
}
