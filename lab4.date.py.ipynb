{
 "cells": [
  {
   "cell_type": "code",
   "execution_count": 1,
   "id": "2ed532aa",
   "metadata": {},
   "outputs": [
    {
     "name": "stdout",
     "output_type": "stream",
     "text": [
      "2023-02-11\n"
     ]
    }
   ],
   "source": [
    "#1\n",
    "import datetime\n",
    "#from datetime import date, timedelta\n",
    "x=datetime.date.today() - datetime.timedelta(5)\n",
    "print(x)"
   ]
  },
  {
   "cell_type": "code",
   "execution_count": 2,
   "id": "823f6562",
   "metadata": {},
   "outputs": [
    {
     "name": "stdout",
     "output_type": "stream",
     "text": [
      "Yesterday: 2023-02-15\n",
      "Today: 2023-02-16\n",
      "Tomorrow: 2023-02-17\n"
     ]
    }
   ],
   "source": [
    "#2\n",
    "import datetime\n",
    "yes=datetime.date.today() - datetime.timedelta(1)\n",
    "today = datetime.date.today()\n",
    "tom = datetime.date.today() + datetime.timedelta(1)\n",
    "print('Yesterday:', yes)\n",
    "print('Today:', today)\n",
    "print('Tomorrow:', tom)"
   ]
  },
  {
   "cell_type": "code",
   "execution_count": 3,
   "id": "96448016",
   "metadata": {},
   "outputs": [
    {
     "name": "stdout",
     "output_type": "stream",
     "text": [
      "2023-02-16 11:57:37\n"
     ]
    }
   ],
   "source": [
    "\n",
    "#3\n",
    "import datetime\n",
    "x= datetime.datetime.today().replace(microsecond=0)\n",
    "print(x)"
   ]
  },
  {
   "cell_type": "code",
   "execution_count": 4,
   "id": "97cc7606",
   "metadata": {},
   "outputs": [
    {
     "name": "stdout",
     "output_type": "stream",
     "text": [
      "3974400 seconds\n"
     ]
    }
   ],
   "source": [
    "#4\n",
    "import datetime\n",
    "x = datetime.datetime.today() - datetime.datetime(2023, 1, 1)\n",
    "# x = datetime.datetime(2023, 2, 15)\n",
    "# x= datetime.timedelta.days()\n",
    "# print(x.days * 24 * 3600 + datetime.timedelta.seconds)\n",
    "# print(\"%d seconds\" %(x.days * 24 * 3600))\n",
    "print(x.days * 24 * 3600, \"seconds\")"
   ]
  },
  {
   "cell_type": "code",
   "execution_count": null,
   "id": "e8529b34",
   "metadata": {},
   "outputs": [],
   "source": []
  }
 ],
 "metadata": {
  "kernelspec": {
   "display_name": "Python 3 (ipykernel)",
   "language": "python",
   "name": "python3"
  },
  "language_info": {
   "codemirror_mode": {
    "name": "ipython",
    "version": 3
   },
   "file_extension": ".py",
   "mimetype": "text/x-python",
   "name": "python",
   "nbconvert_exporter": "python",
   "pygments_lexer": "ipython3",
   "version": "3.9.13"
  }
 },
 "nbformat": 4,
 "nbformat_minor": 5
}
