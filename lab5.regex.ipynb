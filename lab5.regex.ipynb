{
 "cells": [
  {
   "cell_type": "code",
   "execution_count": null,
   "id": "10e61f1b",
   "metadata": {},
   "outputs": [],
   "source": [
    "#1\n",
    "import re\n",
    "def fun(text):\n",
    "    this = 'ab*?'\n",
    "    if re.findall(this,text):\n",
    "        print ('Match!')\n",
    "    else: print ('Not Match!')\n",
    "txt=str(input())\n",
    "fun(txt)"
   ]
  },
  {
   "cell_type": "code",
   "execution_count": null,
   "id": "4e4f6005",
   "metadata": {},
   "outputs": [],
   "source": [
    "#2\n",
    "import re\n",
    "def fun(text):\n",
    "    this ='ab{2,3}?'\n",
    "    if re.findall(this, text):\n",
    "        print('Match!')\n",
    "    else: print('Not Match!')\n",
    "txt = str(input())\n",
    "fun(txt)"
   ]
  },
  {
   "cell_type": "code",
   "execution_count": null,
   "id": "47e9a4b7",
   "metadata": {},
   "outputs": [],
   "source": [
    "#3\n",
    "import re\n",
    "def fun(text):\n",
    "    this = '^[a-z]+_[a-z]+$'\n",
    "    if re.findall(this, text):\n",
    "        print('Match!')\n",
    "    else: print('Not Match!')\n",
    "txt = str(input())\n",
    "fun(txt)"
   ]
  },
  {
   "cell_type": "code",
   "execution_count": null,
   "id": "4f2ff285",
   "metadata": {},
   "outputs": [],
   "source": [
    "#4\n",
    "import re\n",
    "def fun(text):\n",
    "    this = '[A-Z]+[a-z]+$'\n",
    "    if re.findall(this, text):\n",
    "        print('Match!')\n",
    "    else: print('Not Match!')\n",
    "txt = str(input())\n",
    "fun(txt)"
   ]
  },
  {
   "cell_type": "code",
   "execution_count": null,
   "id": "2ce02deb",
   "metadata": {},
   "outputs": [],
   "source": [
    "#5\n",
    "import re\n",
    "def fun(text):\n",
    "    this='a.*?b$'\n",
    "    if re.findall(this, text):\n",
    "        print('Match!')\n",
    "    else: print('Not Match!')\n",
    "txt = str(input())\n",
    "fun(txt)"
   ]
  },
  {
   "cell_type": "code",
   "execution_count": null,
   "id": "5ff4e02c",
   "metadata": {},
   "outputs": [],
   "source": [
    "#6\n",
    "import re\n",
    "def fun(text):\n",
    "    print (re.sub('[ ,.]', ':', text))\n",
    "txt = str(input())\n",
    "fun(txt)"
   ]
  },
  {
   "cell_type": "code",
   "execution_count": null,
   "id": "5f51c182",
   "metadata": {},
   "outputs": [],
   "source": [
    "#7\n",
    "import re\n",
    "def fun(text):\n",
    "    print(''.join(x.capitalize() for x in text.split('_')))\n",
    "txt = str(input())\n",
    "fun(txt)"
   ]
  },
  {
   "cell_type": "code",
   "execution_count": null,
   "id": "94c9287e",
   "metadata": {},
   "outputs": [],
   "source": [
    "#8\n",
    "import re\n",
    "def fun(text):\n",
    "    print(re.findall('[A-Z][^A-Z]*', text))\n",
    "txt = str(input())\n",
    "fun(txt)"
   ]
  },
  {
   "cell_type": "code",
   "execution_count": null,
   "id": "637e06ff",
   "metadata": {},
   "outputs": [],
   "source": [
    "#9\n",
    "import re\n",
    "def fun(text):\n",
    "    print(re.sub(r'(\\w)([A-Z])', r'\\1 \\2', text))\n",
    "txt = str(input())\n",
    "fun(txt)"
   ]
  },
  {
   "cell_type": "code",
   "execution_count": null,
   "id": "3a1e1e98",
   "metadata": {},
   "outputs": [],
   "source": [
    "#10\n",
    "import re\n",
    "def fun(text):\n",
    "    print(re.sub(r'(.)([A-Z][a-z]+)', r'\\1_\\2', text).lower())\n",
    "txt=str(input())\n",
    "fun(txt)"
   ]
  }
 ],
 "metadata": {
  "kernelspec": {
   "display_name": "Python 3 (ipykernel)",
   "language": "python",
   "name": "python3"
  }
 },
 "nbformat": 4,
 "nbformat_minor": 5
}
