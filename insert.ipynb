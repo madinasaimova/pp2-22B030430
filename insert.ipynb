{
 "cells": [
  {
   "cell_type": "code",
   "execution_count": null,
   "id": "c456d7d5",
   "metadata": {},
   "outputs": [],
   "source": [
    "\n",
    "from pkg_resources import cleanup_resources\n",
    "import psycopg2, csv\n",
    "from config import params\n",
    "\n",
    "db=psycopg2.connect(**params)\n",
    "\n",
    "current=db.cursor()\n",
    "\n",
    "sql=\"\"\"\n",
    "    INSERT INTO PhoneBook VALUES(%s, %s, %s) returning *;\n",
    "\"\"\"\n",
    "try:\n",
    "    result=[]\n",
    "    with open('PhoneBook.csv', 'r') as f:\n",
    "        reader=csv.reader(f, delimiter=',')\n",
    "        for row in reader:\n",
    "            current.execute(sql, row)\n",
    "            result.append(current.fetchone())\n",
    "        print(result)\n",
    "\n",
    "except Exception as e:\n",
    "    name=input(\"Enter the name:\")\n",
    "    phone_number=input(\"Enter the phone_number:\")\n",
    "    city=input(\"Enter the city:\")\n",
    "    current.execute(sql, (name, phone_number, city))\n",
    "    print(current.fetchone())\n",
    "\n",
    "current.close()\n",
    "db.commit()\n",
    "db.close()"
   ]
  }
 ],
 "metadata": {
  "kernelspec": {
   "display_name": "Python 3 (ipykernel)",
   "language": "python",
   "name": "python3"
  }
 },
 "nbformat": 4,
 "nbformat_minor": 5
}
